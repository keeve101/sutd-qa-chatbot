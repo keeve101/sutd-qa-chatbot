{
 "cells": [
  {
   "cell_type": "code",
   "execution_count": 164,
   "id": "e79eb46d",
   "metadata": {},
   "outputs": [],
   "source": [
    "import os\n",
    "import json\n",
    "import re\n",
    "\n",
    "from config import GEMINI_API_KEY, TAVILY_API_KEY\n",
    "\n",
    "from langchain_core.output_parsers import JsonOutputParser\n",
    "from langchain_core.prompts.prompt import PromptTemplate\n",
    "from langchain_google_genai import ChatGoogleGenerativeAI\n",
    "from langchain_community.tools.tavily_search import TavilySearchResults\n",
    "\n",
    "from pprint import pprint"
   ]
  },
  {
   "cell_type": "code",
   "execution_count": 165,
   "id": "c072f9c4",
   "metadata": {},
   "outputs": [],
   "source": [
    "if \"GOOGLE_API_KEY\" not in os.environ:\n",
    "    os.environ[\"GOOGLE_API_KEY\"] = GEMINI_API_KEY\n",
    "\n",
    "\n",
    "if \"TAVILY_API_KEY\" not in os.environ:\n",
    "    os.environ[\"TAVILY_API_KEY\"] = TAVILY_API_KEY\n"
   ]
  },
  {
   "cell_type": "code",
   "execution_count": null,
   "id": "cdf5fe71",
   "metadata": {},
   "outputs": [],
   "source": [
    "theme_prompt = PromptTemplate(\n",
    "    input_variables=[],\n",
    "    template=\"\"\"\n",
    "You are helping to generate lexicon-rich question templates for prospective students exploring the Singapore University of Technology and Design (SUTD). Generate a JSON object containing 5-8 key themes or points of interest that prospective university students commonly inquire about when considering the SUTD university experience. The keys of the JSON object should be sequential integers starting from 0, and the values should be descriptive strings representing the themes.\n",
    "\n",
    "You're not limited to these, an example of the desired output format:\n",
    "{{\n",
    "  \"0\": \"Interdisciplinary Curriculum\",\n",
    "  \"1\": \"Design-Centric and Hands-On Learning\",\n",
    "  \"2\": \"Campus Culture and Student Life\",\n",
    "  \"3\": \"Graduate Employability and Industry Connections\",\n",
    "  \"4\": \"Pillars and Specialisations\",\n",
    "  \"5\": \"Housing and Campus Facilities\",\n",
    "  \"6\": \"Admissions Criteria, Financial Aid, and Scholarships\"\n",
    "  \"7\": \"Fifth Row (Clubs, Sports, Arts)\",\n",
    "}}\n",
    "\n",
    "The output should be in a JSON-like format within the curly braces.\n",
    "    \"\"\"\n",
    ")"
   ]
  },
  {
   "cell_type": "code",
   "execution_count": 167,
   "id": "c4130cbb",
   "metadata": {},
   "outputs": [],
   "source": [
    "llm = ChatGoogleGenerativeAI(\n",
    "    model=\"gemini-2.0-flash\",\n",
    "    temperature=0.5 # We want some randomness\n",
    ")\n",
    "\n",
    "json_output_parser = JsonOutputParser()\n",
    "\n",
    "chain = llm | json_output_parser"
   ]
  },
  {
   "cell_type": "code",
   "execution_count": 168,
   "id": "221caf54",
   "metadata": {},
   "outputs": [],
   "source": [
    "theme_prompt_results = chain.invoke(theme_prompt.format())"
   ]
  },
  {
   "cell_type": "code",
   "execution_count": 169,
   "id": "e47f1dce",
   "metadata": {},
   "outputs": [
    {
     "name": "stdout",
     "output_type": "stream",
     "text": [
      "{'0': \"SUTD's Unique Curriculum Structure and Learning Approach\",\n",
      " '1': 'Career Opportunities, Industry Partnerships, and Alumni Network',\n",
      " '2': 'Student Life, Campus Culture, and Extracurricular Activities (Fifth '\n",
      "      'Row)',\n",
      " '3': 'Admissions Requirements, Application Process, and Portfolio Advice',\n",
      " '4': 'Financial Aid, Scholarships, and Tuition Fees',\n",
      " '5': 'Research Opportunities and Faculty Expertise',\n",
      " '6': 'Housing Options, Campus Facilities, and Location',\n",
      " '7': 'Design Thinking and Innovation Focus'}\n"
     ]
    }
   ],
   "source": [
    "pprint(theme_prompt_results)"
   ]
  },
  {
   "cell_type": "code",
   "execution_count": null,
   "id": "e865db14",
   "metadata": {},
   "outputs": [],
   "source": [
    "theme_prompt_results = {\n",
    "    \"0\": \"Undergraduate Pillars and Specializations\",\n",
    "    \"1\": \"Fifth Row (Clubs, Sports, Arts)\",\n",
    "}"
   ]
  },
  {
   "cell_type": "code",
   "execution_count": null,
   "id": "6c935f4b",
   "metadata": {},
   "outputs": [
    {
     "data": {
      "text/plain": [
       "\"\\nExample output\\n\\ntheme_prompt_results = {\\n    '0': 'Academic Programs and Faculty',\\n    '1': 'Career Services and Internship Opportunities',\\n    '2': 'Campus Life and Student Culture',\\n    '3': 'Tuition, Financial Aid, and Scholarships',\\n    '4': 'Location and Campus Environment',\\n    '5': 'Housing and Accommodation Options',\\n    '6': 'Student Support Services (Counseling, Health)',\\n    '7': 'Research Opportunities (Undergraduate)',\\n    '8': 'Safety and Security on Campus'\\n}\\n\""
      ]
     },
     "execution_count": 171,
     "metadata": {},
     "output_type": "execute_result"
    }
   ],
   "source": [
    "\"\"\"\n",
    "Example output\n",
    "\n",
    "theme_prompt_results = {\n",
    "    '0': 'Academic Programs and Faculty',\n",
    "    '1': 'Career Services and Internship Opportunities',\n",
    "    '2': 'Campus Life and Student Culture',\n",
    "    '3': 'Tuition, Financial Aid, and Scholarships',\n",
    "    '4': 'Location and Campus Environment',\n",
    "    '5': 'Housing and Accommodation Options',\n",
    "    '6': 'Student Support Services (Counseling, Health)',\n",
    "    '7': 'Research Opportunities (Undergraduate)',\n",
    "    '8': 'Safety and Security on Campus'\n",
    "}\n",
    "\"\"\""
   ]
  },
  {
   "cell_type": "code",
   "execution_count": null,
   "id": "2428afa5",
   "metadata": {},
   "outputs": [],
   "source": [
    "question_prompt_template = PromptTemplate(\n",
    "    input_variables=[\"THEME\"],\n",
    "    template=\"\"\"\n",
    "You are helping to generate lexicon-rich question templates for prospective students exploring the Singapore University of Technology and Design (SUTD). Each question should contain a lexicon placeholder (e.g., {{CLUB}}, {{PROGRAM_TYPE}}, {{SEMESTER_YEAR}}) that can later be substituted with concrete values retrieved from the web.\n",
    "\n",
    "Here are some themes relevant to prospective students, along with sample question templates:\n",
    "\n",
    "Theme: Student Life and Culture  \n",
    "{{\n",
    "  \"Social Events\": \"What kind of social events or traditions does SUTD host during {{SEMESTER_OR_PERIOD}}?\",\n",
    "  \"Campus Culture\": \"What is student culture like for those studying in {{PROGRAM_TYPE}} at SUTD?\",\n",
    "  \"Arts and Culture\": \"What opportunities are there for students interested in {{ARTS_ACTIVITY}} at SUTD?\"\n",
    "}}\n",
    "\n",
    "Theme: Admissions and Applications  \n",
    "{{\n",
    "  \"Application Requirements\": \"What are the application requirements for {{PROGRAM_TYPE}} programs at SUTD?\",\n",
    "  \"Essay Guidance\": \"Do you have any advice for writing the application essay for {{PROGRAM_TYPE}} at SUTD?\",\n",
    "  \"Standardized Tests\": \"What are the policies regarding {{TEST_TYPE}} scores when applying to SUTD?\",\n",
    "  \"Application Deadline\": \"What is the application deadline for entry in {{SEMESTER_YEAR}}?\"\n",
    "}}\n",
    "\n",
    "Theme: {THEME}\n",
    "{{\n",
    "  \"{{SUB_THEME_1_KEY}}\": \"{{SUB_THEME_1_QUERY}}\",\n",
    "  \"{{SUB_THEME_2_KEY}}\": \"{{SUB_THEME_2_QUERY}}\",\n",
    "  \"{{SUB_THEME_3_KEY}}\": \"{{SUB_THEME_3_QUERY}}\",\n",
    "  \"{{SUB_THEME_4_KEY}}\": \"{{SUB_THEME_4_QUERY}}\"\n",
    "}}\n",
    "Generate 3-5 relevant sub-themes (keys) and corresponding question templates (values) for the theme: {THEME}. Use placeholders like {{COURSE}}, {{FACILITY}}, {{HOSTEL}}, {{CLUB}}, {{SEMESTER_YEAR}}, etc., to keep the questions lexicon-ready. The output should be in a JSON-like format within the curly braces.\n",
    "\"\"\"\n",
    ")\n",
    "\n",
    "question_templates = {}\n",
    "for theme in theme_prompt_results.values():\n",
    "    question_template_prompt_results = chain.invoke(question_prompt_template.format(THEME=theme))\n",
    "    question_templates[theme] = question_template_prompt_results"
   ]
  },
  {
   "cell_type": "code",
   "execution_count": 173,
   "id": "7f2ce028",
   "metadata": {},
   "outputs": [
    {
     "name": "stdout",
     "output_type": "stream",
     "text": [
      "2\n",
      "dict_values(['PILLAR', 'SPECIALIZATION'])\n"
     ]
    }
   ],
   "source": [
    "question_template_lexicon_pairs = {}\n",
    "\n",
    "for theme in question_templates.keys():\n",
    "    for subtheme, question_template in question_templates[theme].items():\n",
    "        matches = re.findall(r\"\\{([^}]+)\\}\", question_template)\n",
    "        \n",
    "        # make sure only 1 match, otherwise skip\n",
    "        if len(matches) == 1:\n",
    "            question_template_lexicon_pairs[question_template] = matches[0]\n",
    "\n",
    "print(len(question_template_lexicon_pairs.keys()))\n",
    "print(question_template_lexicon_pairs.values())"
   ]
  },
  {
   "cell_type": "code",
   "execution_count": 174,
   "id": "edea81ef",
   "metadata": {},
   "outputs": [],
   "source": [
    "search_query_prompt_template = PromptTemplate(\n",
    "    input_variables=[\"QUESTION_TEMPLATE_TO_SEARCH\", \"LEXICON_PLACEHOLDER_TO_FILL\"],\n",
    "    template=\"\"\"\n",
    "You are an expert in generating effective web search queries for finding information related to the Singapore University of Technology and Design (SUTD). Your goal is to create a concise web search query that will retrieve possible values for the lexicon placeholder `{{LEXICON_PLACEHOLDER}}` within the context of SUTD.\n",
    "\n",
    "Here are a few examples:\n",
    "\n",
    "**Example 1:**\n",
    "Question Template: \"What does {{CLUB}} do in SUTD?\"\n",
    "LEXICON_PLACEHOLDER: {{CLUB}}\n",
    "Search Query: {{\"search_query\": \"SUTD student clubs organizations list\"}}\n",
    "\n",
    "**Example 2:**\n",
    "Question Template: \"Who are the professors teaching {{COURSE}} at SUTD?\"\n",
    "LEXICON_PLACEHOLDER: {{COURSE}}\n",
    "Search Query: {{\"search_query\": \"SUTD course catalog undergraduate graduate\"}}\n",
    "\n",
    "Now, generate a search query for the following:\n",
    "\n",
    "Question Template: \"{QUESTION_TEMPLATE_TO_SEARCH}\"\n",
    "LEXICON_PLACEHOLDER: {LEXICON_PLACEHOLDER_TO_FILL}\n",
    "Search Query:\n",
    "\"\"\"\n",
    ")"
   ]
  },
  {
   "cell_type": "code",
   "execution_count": 175,
   "id": "0d2d2a79",
   "metadata": {},
   "outputs": [],
   "source": [
    "from tenacity import retry, stop_after_attempt, wait_exponential, retry_if_exception_message\n",
    "\n",
    "lexicon_question_search_query_pairs = {}\n",
    "\n",
    "@retry(\n",
    "    stop=stop_after_attempt(25),\n",
    "    wait=wait_exponential(multiplier=1, min=1, max=60),\n",
    "    retry=retry_if_exception_message(match=\"429|ResourceExhausted\")\n",
    ")\n",
    "def invoke_chain(chain, prompt):\n",
    "    return chain.invoke(prompt)\n",
    "\n",
    "for question, lexicon in question_template_lexicon_pairs.items():\n",
    "    try:\n",
    "        lexicon_search_query = invoke_chain(chain, search_query_prompt_template.format(QUESTION_TEMPLATE_TO_SEARCH=question, LEXICON_PLACEHOLDER_TO_FILL=lexicon))\n",
    "    \n",
    "        lexicon_question_search_query_pairs[(question, lexicon)] = lexicon_search_query\n",
    "    except:\n",
    "        pass"
   ]
  },
  {
   "cell_type": "code",
   "execution_count": 176,
   "id": "0d9ab4a9",
   "metadata": {},
   "outputs": [
    {
     "name": "stdout",
     "output_type": "stream",
     "text": [
      "Question: What specialization options are available after completing the {PILLAR} pillar at SUTD?\n",
      "Lexicon: PILLAR\n",
      "Search Query: {'search_query': 'SUTD pillars specializations after pillar'}\n",
      "\n",
      "Question: What are some common career paths for graduates who specialized in {SPECIALIZATION} at SUTD?\n",
      "Lexicon: SPECIALIZATION\n",
      "Search Query: {'search_query': 'SUTD degree programs majors specializations'}\n",
      "\n"
     ]
    }
   ],
   "source": [
    "for (question, lexicon), search_query in lexicon_question_search_query_pairs.items():\n",
    "    print(f\"Question: {question}\")\n",
    "    print(f\"Lexicon: {lexicon}\")\n",
    "    print(f\"Search Query: {search_query}\")\n",
    "    print()"
   ]
  },
  {
   "cell_type": "code",
   "execution_count": 177,
   "id": "edc42aa4",
   "metadata": {},
   "outputs": [],
   "source": [
    "search = TavilySearchResults(max_results=3)"
   ]
  },
  {
   "cell_type": "code",
   "execution_count": 178,
   "id": "d3776c2b",
   "metadata": {},
   "outputs": [
    {
     "data": {
      "text/plain": [
       "'\\nexample_search = search.invoke(\"What does Climbers Club do in SUTD?\")\\n\\npprint(example_search)\\n'"
      ]
     },
     "execution_count": 178,
     "metadata": {},
     "output_type": "execute_result"
    }
   ],
   "source": [
    "\"\"\"\n",
    "example_search = search.invoke(\"What does Climbers Club do in SUTD?\")\n",
    "\n",
    "pprint(example_search)\n",
    "\"\"\""
   ]
  },
  {
   "cell_type": "code",
   "execution_count": 179,
   "id": "20c18cdc",
   "metadata": {},
   "outputs": [],
   "source": [
    "lexicon_extraction_prompt_template = PromptTemplate(\n",
    "    input_variables=[\"QUESTION_TEMPLATE_TO_PARSE\", \"LEXICON_PLACEHOLDER_TO_EXTRACT\", \"RETRIEVED_CONTEXT\"],\n",
    "    template = \"\"\"\n",
    "You are an expert in information extraction. Your goal is to parse the provided text and identify specific values that can fill the placeholder `{{LEXICON_PLACEHOLDER}}` in the following question template:\n",
    "\n",
    "\"{{QUESTION_TEMPLATE}}\"\n",
    "\n",
    "The following is the text retrieved from a web search (or other source) that may contain the information you need:\n",
    "\n",
    "--- START OF CONTEXT ---\n",
    "{{RETRIEVED_CONTEXT}}\n",
    "--- END OF CONTEXT ---\n",
    "\n",
    "Based on this context, please extract all relevant and distinct values that can be used to replace the placeholder `{{LEXICON_PLACEHOLDER}}` in the question template. Return the values as a JSON object where each value is numbered starting from \"0\". If no relevant values are found in the context, return in JSON format:\n",
    "\n",
    "Example 1:\n",
    "Question Template: \"What does {{CLUB}} do in SUTD?\"\n",
    "LEXICON_PLACEHOLDER: {{CLUB}}\n",
    "Retrieved Context: \"SUTD offers a wide range of student clubs including the SUTD Robotics Club, SUTD Design Society, SUTD Photography Club, and the SUTD Debate Club...\"\n",
    "Extracted Values:\n",
    "{{\n",
    "  \"0\": \"SUTD Robotics Club\",\n",
    "  \"1\": \"SUTD Design Society\",\n",
    "  \"2\": \"SUTD Photography Club\",\n",
    "  \"3\": \"SUTD Debate Club\"\n",
    "}}\n",
    "\n",
    "Example 2:\n",
    "Question Template: \"Who are the professors teaching {{COURSE}} at SUTD?\"\n",
    "LEXICON_PLACEHOLDER: {{COURSE}}\n",
    "Retrieved Context: \"The undergraduate course catalog lists Introduction to Programming taught by Prof. Lee, and Calculus I taught by Dr. Tan...\"\n",
    "Extracted Values:\n",
    "{{\n",
    "  \"0\": \"Introduction to Programming\",\n",
    "  \"1\": \"Calculus I\"\n",
    "}}\n",
    "\n",
    "Now, apply this to the following:\n",
    "\n",
    "Question Template: \"{QUESTION_TEMPLATE_TO_PARSE}\"\n",
    "LEXICON_PLACEHOLDER: {LEXICON_PLACEHOLDER_TO_EXTRACT}\n",
    "Retrieved Context:\n",
    "--- START OF CONTEXT ---\n",
    "{RETRIEVED_CONTEXT}\n",
    "--- END OF CONTEXT ---\n",
    "\n",
    "Extracted Values:\n",
    "\"\"\"\n",
    ")"
   ]
  },
  {
   "cell_type": "code",
   "execution_count": 180,
   "id": "8c363c6b",
   "metadata": {},
   "outputs": [],
   "source": [
    "question_lexicon_list_pairs = {}\n",
    "\n",
    "for (question, lexicon), search_query in lexicon_question_search_query_pairs.items():\n",
    "    lexicon_search_query_result = search.invoke(search_query['search_query'])\n",
    "    \n",
    "    QUESTION_TEMPLATE_TO_PARSE = question\n",
    "    LEXICON_PLACEHOLDER_TO_EXTRACT = lexicon\n",
    "    RETRIEVED_CONTEXT = lexicon_search_query_result\n",
    "    \n",
    "    prompt = lexicon_extraction_prompt_template.format(\n",
    "        QUESTION_TEMPLATE_TO_PARSE=QUESTION_TEMPLATE_TO_PARSE,\n",
    "        LEXICON_PLACEHOLDER_TO_EXTRACT=LEXICON_PLACEHOLDER_TO_EXTRACT,\n",
    "        RETRIEVED_CONTEXT=RETRIEVED_CONTEXT\n",
    "    )\n",
    "\n",
    "    results = invoke_chain(llm, prompt) # Call model instead of chain, because the JSON output parser seems to bug out with particularly long context\n",
    "    \n",
    "    question_lexicon_list_pairs[question] = results"
   ]
  },
  {
   "cell_type": "code",
   "execution_count": 181,
   "id": "1c17ac65",
   "metadata": {},
   "outputs": [
    {
     "name": "stdout",
     "output_type": "stream",
     "text": [
      "['What specialization options are available after completing the Architecture '\n",
      " 'and Sustainable Design (ASD) pillar at SUTD?',\n",
      " 'What specialization options are available after completing the Engineering '\n",
      " 'Product Development (EPD) pillar at SUTD?',\n",
      " 'What specialization options are available after completing the Engineering '\n",
      " 'Systems and Design (ESD) pillar at SUTD?',\n",
      " 'What specialization options are available after completing the Information '\n",
      " 'Systems Technology and Design (ISTD) pillar at SUTD?',\n",
      " 'What are some common career paths for graduates who specialized in '\n",
      " 'architecture and engineering at SUTD?',\n",
      " 'What are some common career paths for graduates who specialized in design '\n",
      " 'and artificial intelligence at SUTD?',\n",
      " 'What are some common career paths for graduates who specialized in '\n",
      " 'Engineering at SUTD?',\n",
      " 'What are some common career paths for graduates who specialized in '\n",
      " 'Humanities at SUTD?',\n",
      " 'What are some common career paths for graduates who specialized in Social '\n",
      " 'Sciences at SUTD?',\n",
      " 'What are some common career paths for graduates who specialized in '\n",
      " 'Artificial Intelligence at SUTD?',\n",
      " 'What are some common career paths for graduates who specialized in Data '\n",
      " 'Analytics at SUTD?',\n",
      " 'What are some common career paths for graduates who specialized in Financial '\n",
      " 'Technology at SUTD?',\n",
      " 'What are some common career paths for graduates who specialized in IoT and '\n",
      " 'Intelligent Systems at SUTD?',\n",
      " 'What are some common career paths for graduates who specialized in Security '\n",
      " 'at SUTD?',\n",
      " 'What are some common career paths for graduates who specialized in Software '\n",
      " 'Engineering at SUTD?',\n",
      " 'What are some common career paths for graduates who specialized in Visual '\n",
      " 'Analytics at SUTD?']\n"
     ]
    }
   ],
   "source": [
    "questions = []\n",
    "\n",
    "for question, lexicon_list in question_lexicon_list_pairs.items():\n",
    "    try:\n",
    "        lexicon_list = json_output_parser.invoke(lexicon_list)\n",
    "    except:\n",
    "        lexicon_list = []\n",
    "    \n",
    "    if type(lexicon_list) == dict:\n",
    "        lexicon_list = list(lexicon_list.values())\n",
    "    \n",
    "    pattern = r\"\\{[^}]+\\}\"\n",
    "    \n",
    "    questions.extend([re.sub(pattern, lexicon, question, count=1) for lexicon in lexicon_list])\n",
    "\n",
    "pprint(questions)"
   ]
  },
  {
   "cell_type": "code",
   "execution_count": 182,
   "id": "29a83d23",
   "metadata": {},
   "outputs": [],
   "source": [
    "output_file = \"questions.jsonl\"\n",
    "\n",
    "with open(output_file, \"a\", encoding=\"utf-8\") as f:\n",
    "    for question in questions:\n",
    "        json.dump({\"question\": question}, f)\n",
    "        f.write(\"\\n\")"
   ]
  }
 ],
 "metadata": {
  "kernelspec": {
   "display_name": "capstone",
   "language": "python",
   "name": "python3"
  },
  "language_info": {
   "codemirror_mode": {
    "name": "ipython",
    "version": 3
   },
   "file_extension": ".py",
   "mimetype": "text/x-python",
   "name": "python",
   "nbconvert_exporter": "python",
   "pygments_lexer": "ipython3",
   "version": "3.10.16"
  }
 },
 "nbformat": 4,
 "nbformat_minor": 5
}
