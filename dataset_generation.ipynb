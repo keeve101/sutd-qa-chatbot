{
 "cells": [
  {
   "cell_type": "code",
   "execution_count": 25,
   "id": "e79eb46d",
   "metadata": {},
   "outputs": [],
   "source": [
    "import os\n",
    "import json\n",
    "\n",
    "from config import GEMINI_API_KEY\n",
    "\n",
    "from langchain_core.output_parsers import JsonOutputParser\n",
    "from langchain_core.prompts.prompt import PromptTemplate\n",
    "from langchain_google_genai import ChatGoogleGenerativeAI\n",
    "\n",
    "from pprint import pprint"
   ]
  },
  {
   "cell_type": "code",
   "execution_count": 12,
   "id": "c072f9c4",
   "metadata": {},
   "outputs": [],
   "source": [
    "if \"GOOGLE_API_KEY\" not in os.environ:\n",
    "    os.environ[\"GOOGLE_API_KEY\"] = GEMINI_API_KEY"
   ]
  },
  {
   "cell_type": "code",
   "execution_count": 13,
   "id": "cdf5fe71",
   "metadata": {},
   "outputs": [],
   "source": [
    "theme_prompt = PromptTemplate(\n",
    "    input_variables=[],\n",
    "    template=\"\"\"\n",
    "Generate a JSON object containing 5-10 key themes or points of interest that prospective university students commonly inquire about when considering a university experience. The keys of the JSON object should be sequential integers starting from 0, and the values should be descriptive strings representing the themes.\n",
    "\n",
    "Example of the desired output format:\n",
    "{{\n",
    "  \"0\": \"Student Life\",\n",
    "  \"1\": \"Extracurriculars\",\n",
    "  \"2\": \"Academics\",\n",
    "  \"3\": \"Admissions\"\n",
    "}}\n",
    "\n",
    "The output should be in a JSON-like format within the curly braces.\n",
    "    \"\"\"\n",
    ")"
   ]
  },
  {
   "cell_type": "code",
   "execution_count": 18,
   "id": "c4130cbb",
   "metadata": {},
   "outputs": [],
   "source": [
    "llm = ChatGoogleGenerativeAI(\n",
    "    model=\"gemini-2.0-flash\"\n",
    ")\n",
    "\n",
    "json_output_parser = JsonOutputParser()\n",
    "\n",
    "chain = llm | json_output_parser"
   ]
  },
  {
   "cell_type": "code",
   "execution_count": 21,
   "id": "221caf54",
   "metadata": {},
   "outputs": [],
   "source": [
    "theme_prompt_results = chain.invoke(theme_prompt.format())"
   ]
  },
  {
   "cell_type": "code",
   "execution_count": 24,
   "id": "e47f1dce",
   "metadata": {},
   "outputs": [
    {
     "name": "stdout",
     "output_type": "stream",
     "text": [
      "{'0': 'Academic Programs and Faculty Quality',\n",
      " '1': 'Career Services and Internship Opportunities',\n",
      " '2': 'Campus Life and Student Culture',\n",
      " '3': 'Tuition, Financial Aid, and Scholarships',\n",
      " '4': 'Location, Safety, and Accommodation',\n",
      " '5': 'Research Opportunities (for undergraduate/graduate students)',\n",
      " '6': 'Student Support Services (e.g., counseling, disability services)',\n",
      " '7': 'Diversity and Inclusion Initiatives'}\n"
     ]
    }
   ],
   "source": [
    "pprint(theme_prompt_results)"
   ]
  },
  {
   "cell_type": "code",
   "execution_count": 34,
   "id": "6c935f4b",
   "metadata": {},
   "outputs": [],
   "source": [
    "theme_prompt_results = {\n",
    "    '0': 'Academic Programs and Faculty',\n",
    "    '1': 'Career Services and Internship Opportunities',\n",
    "    '2': 'Campus Life and Student Culture',\n",
    "    '3': 'Tuition, Financial Aid, and Scholarships',\n",
    "    '4': 'Location, Safety, and Accommodation',\n",
    "    '5': 'Research Opportunities (for undergraduate/graduate students)',\n",
    "    '6': 'Student Support Services (e.g., counseling, disability services)',\n",
    "}"
   ]
  },
  {
   "cell_type": "code",
   "execution_count": 35,
   "id": "2428afa5",
   "metadata": {},
   "outputs": [],
   "source": [
    "question_prompt_template = PromptTemplate(\n",
    "    input_variables=[\"THEME\"],\n",
    "    template=\"\"\"\n",
    "You are helping to generate lexicon-rich question templates for prospective students exploring the Singapore University of Technology and Design (SUTD). Each question should contain a lexicon placeholder (e.g., {{CLUB}}, {{PROGRAM_TYPE}}, {{SEMESTER_YEAR}}) that can later be substituted with concrete values retrieved from the web.\n",
    "\n",
    "Here are some themes relevant to prospective students, along with sample question templates:\n",
    "\n",
    "Theme: Student Life and Culture  \n",
    "{{\n",
    "  \"Social Events\": \"What kind of social events or traditions does SUTD host during {{SEMESTER_OR_PERIOD}}?\",\n",
    "  \"Campus Culture\": \"What is student culture like for those studying in {{PROGRAM_TYPE}} at SUTD?\",\n",
    "  \"Arts and Culture\": \"What opportunities are there for students interested in {{ARTS_ACTIVITY}} at SUTD?\"\n",
    "}}\n",
    "\n",
    "Theme: Admissions and Applications  \n",
    "{{\n",
    "  \"Application Requirements\": \"What are the application requirements for {{PROGRAM_TYPE}} programs at SUTD?\",\n",
    "  \"Essay Guidance\": \"Do you have any advice for writing the application essay for {{PROGRAM_TYPE}} at SUTD?\",\n",
    "  \"Standardized Tests\": \"What are the policies regarding {{TEST_TYPE}} scores when applying to SUTD?\",\n",
    "  \"Application Deadline\": \"What is the application deadline for entry in {{SEMESTER_YEAR}}?\"\n",
    "}}\n",
    "\n",
    "Theme: {THEME}\n",
    "{{\n",
    "  \"{{SUB_THEME_1_KEY}}\": \"{{SUB_THEME_1_QUERY}}\",\n",
    "  \"{{SUB_THEME_2_KEY}}\": \"{{SUB_THEME_2_QUERY}}\",\n",
    "  \"{{SUB_THEME_3_KEY}}\": \"{{SUB_THEME_3_QUERY}}\",\n",
    "  \"{{SUB_THEME_4_KEY}}\": \"{{SUB_THEME_4_QUERY}}\"\n",
    "}}\n",
    "Generate 3-5 relevant sub-themes (keys) and corresponding question templates (values) for the theme: {THEME}. Use placeholders like {{COURSE}}, {{FACILITY}}, {{HOSTEL}}, {{CLUB}}, {{SEMESTER_YEAR}}, etc., to keep the questions lexicon-ready. The output should be in a JSON-like format within the curly braces.\n",
    "\"\"\"\n",
    ")\n",
    "\n",
    "question_templates = {}\n",
    "for theme in theme_prompt_results.values():\n",
    "    question_template_prompt_results = chain.invoke(question_prompt_template.format(THEME=theme))\n",
    "    question_templates[theme] = question_template_prompt_results"
   ]
  },
  {
   "cell_type": "code",
   "execution_count": null,
   "id": "7f2ce028",
   "metadata": {},
   "outputs": [
    {
     "name": "stdout",
     "output_type": "stream",
     "text": [
      "What specific topics are covered in the {COURSE} course at SUTD?\n",
      "What are the current research interests of faculty in the {DEPARTMENT} department at SUTD?\n",
      "What learning resources, such as {FACILITY} or software, are available to students in the {PROGRAM_TYPE} program?\n",
      "What are some examples of recent capstone projects completed by students in the {PROGRAM_TYPE} program?\n",
      "What kind of industry connections or partnerships does SUTD have related to the {DEPARTMENT} department?\n",
      "Does SUTD host career fairs focused on {INDUSTRY} or {PROGRAM_TYPE} students?\n",
      "What kind of support does SUTD offer to students seeking internships in {COUNTRY} or at {COMPANY_TYPE}?\n",
      "How can the SUTD alumni network help students with their career prospects in {FIELD_OF_STUDY}?\n",
      "Are there resume writing workshops or career counseling services available for {PROGRAM_TYPE} students at SUTD?\n",
      "What is the job placement rate for SUTD graduates within {MONTHS_AFTER_GRADUATION} of graduation, specifically for {PROGRAM_TYPE}?\n",
      "What are the different {HOSTEL} options available for students at SUTD?\n",
      "What {CLUB} are popular among students at SUTD and how can I join?\n",
      "What kind of {FACILITY} are available for students to use for sports and recreation at SUTD?\n",
      "What are the on-campus {FOOD_TYPE} options and their price ranges at SUTD?\n",
      "What are the orientation programs like for incoming students in {SEMESTER_YEAR} at SUTD?\n",
      "What are the tuition fees for {PROGRAM_TYPE} programs for {INTERNATIONAL_STUDENT_STATUS} students at SUTD?\n",
      "What types of financial aid, such as loans or grants, are available to {NATIONALITY} students at SUTD?\n",
      "What scholarship opportunities are available for students with a background in {ACADEMIC_BACKGROUND} studying {PROGRAM_TYPE} at SUTD?\n",
      "Does SUTD offer any tuition payment plans or installment options for {PROGRAM_TYPE}?\n",
      "What is the estimated cost of living, including {HOSTEL} and meals, for a student at SUTD in {SEMESTER_YEAR}?\n",
      "How accessible is the SUTD campus from {NEIGHBORHOOD_OR_MRT_STATION}?\n",
      "What are the different types of on-campus accommodation available in {HOSTEL} for SUTD students?\n",
      "What safety measures are in place around the SUTD campus and {NEIGHBORHOOD}?\n",
      "What transportation options are available to get to SUTD during {TIME_OF_DAY}?\n",
      "Are there any recommended off-campus housing options near SUTD, particularly for {INTERNATIONAL_STUDENT_TYPE}?\n",
      "What kind of undergraduate research opportunities are available in {RESEARCH_AREA} at SUTD?\n",
      "Which faculty members are conducting research in {RESEARCH_FIELD} and are open to mentoring students?\n",
      "What are the key research facilities and equipment available at SUTD for students working on {PROJECT_TYPE} projects?\n",
      "Are there any funding opportunities or grants available to support student research in {DISCIPLINE} at SUTD?\n",
      "Does SUTD offer any collaborative research programs with other universities or industry partners in {INDUSTRY_SECTOR}?\n",
      "What kind of academic support services are available for students struggling in {COURSE} at SUTD?\n",
      "Does SUTD offer counseling or mental wellness services for students experiencing {MENTAL_HEALTH_CHALLENGE}?\n",
      "What career services and resources are available to SUTD students seeking internships or full-time positions in {INDUSTRY}?\n",
      "What accommodations and support services are available for students with {DISABILITY_TYPE} at SUTD?\n",
      "What types of financial aid and scholarships are available to international students at SUTD, particularly for {PROGRAM_TYPE}?\n"
     ]
    }
   ],
   "source": [
    "for theme in question_templates.keys():\n",
    "    for subtheme, question_template in question_templates[theme].items():\n",
    "        print(question_template)"
   ]
  },
  {
   "cell_type": "code",
   "execution_count": null,
   "id": "edea81ef",
   "metadata": {},
   "outputs": [],
   "source": []
  }
 ],
 "metadata": {
  "kernelspec": {
   "display_name": "mlops",
   "language": "python",
   "name": "python3"
  },
  "language_info": {
   "codemirror_mode": {
    "name": "ipython",
    "version": 3
   },
   "file_extension": ".py",
   "mimetype": "text/x-python",
   "name": "python",
   "nbconvert_exporter": "python",
   "pygments_lexer": "ipython3",
   "version": "3.13.2"
  }
 },
 "nbformat": 4,
 "nbformat_minor": 5
}
