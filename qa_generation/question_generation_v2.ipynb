{
 "cells": [
  {
   "cell_type": "code",
   "execution_count": 2,
   "id": "d68003a2",
   "metadata": {},
   "outputs": [],
   "source": [
    "import os\n",
    "import json\n",
    "import re\n",
    "\n",
    "from config import GEMINI_API_KEY, TAVILY_API_KEY\n",
    "\n",
    "from langchain_core.output_parsers import JsonOutputParser\n",
    "from langchain_core.prompts.prompt import PromptTemplate\n",
    "from langchain_google_genai import ChatGoogleGenerativeAI"
   ]
  },
  {
   "cell_type": "code",
   "execution_count": 3,
   "id": "998bcc30",
   "metadata": {},
   "outputs": [],
   "source": [
    "if \"GOOGLE_API_KEY\" not in os.environ:\n",
    "    os.environ[\"GOOGLE_API_KEY\"] = GEMINI_API_KEY\n",
    "\n",
    "\n",
    "if \"TAVILY_API_KEY\" not in os.environ:\n",
    "    os.environ[\"TAVILY_API_KEY\"] = TAVILY_API_KEY"
   ]
  },
  {
   "cell_type": "code",
   "execution_count": 4,
   "id": "982affe7",
   "metadata": {},
   "outputs": [],
   "source": [
    "direct_question_generation_prompt_template = PromptTemplate(\n",
    "    input_variables=[],\n",
    "    template=\"\"\"\n",
    "Here are some example questions a prospective student might ask about the **pillars or specializations at the Singapore University of Technology and Design (SUTD)**.  \n",
    "Please generate a **mix of basic to advanced questions**, and output them as a **JSON array of question strings**.\n",
    "\n",
    "**Examples:**\n",
    "{{\n",
    "    \"0\": \"What pillars are there in SUTD?\",\n",
    "    \"1\": \"How do I choose a pillar, and when do students typically make this decision?\",\n",
    "    \"2\": \"Can I take modules from other pillars even after I choose my specialization?\",\n",
    "    \"3\": \"What kind of projects will I work on in the Engineering Product Development (EPD) pillar?\",\n",
    "    \"4\": \"What career paths do graduates from the Architecture and Sustainable Design (ASD) pillar usually pursue?\",\n",
    "    \"5\": \"How does the Engineering Systems and Design (ESD) pillar differ from industrial engineering in other universities?\",\n",
    "    \"6\": \"What programming languages or tools will I learn in the Computer Science and Design (CSD) pillar?\",\n",
    "    \"7\": \"How is AI integrated into the Design and Artificial Intelligence (DAI) pillar, and are there industry partnerships involved?\",\n",
    "    \"8\": \"Is it possible to switch pillars after I've been allocated one?\",\n",
    "    \"9\": \"Are there any interdisciplinary projects that involve students from multiple pillars?\"\n",
    "}}\n",
    "\n",
    "Now generate 5-10 new questions in the same JSON format, keeping a healthy mix of beginner and advanced queries.\n",
    "\"\"\"\n",
    ")"
   ]
  },
  {
   "cell_type": "code",
   "execution_count": 32,
   "id": "da72eaae",
   "metadata": {},
   "outputs": [],
   "source": [
    "direct_question_generation_prompt_template = PromptTemplate(\n",
    "    input_variables=[],\n",
    "    template=\"\"\"\n",
    "Here are some example questions a prospective student might ask about the **Fifth Row (Clubs, Sports, Arts)** at the Singapore University of Technology and Design (SUTD)**.  \n",
    "Please generate a **mix of basic to advanced questions**, and output them as a **JSON array of question strings**. Please include some variety in the keywords such as using SUTD's unique naming conventions such as \"Fifth Rows\" or \"Freshmores\".\n",
    "\n",
    "Now generate 5-10 new questions in JSON format.\n",
    "{{\n",
    "    \"0\": \"QUESTION_0\",\n",
    "}}\n",
    "\"\"\"\n",
    ")"
   ]
  },
  {
   "cell_type": "code",
   "execution_count": 45,
   "id": "031ef174",
   "metadata": {},
   "outputs": [],
   "source": [
    "themes = {\n",
    "    \"0\": \"SUTD's Pillars and Specializations\",\n",
    "    \"1\": \"Social Events and Activities at SUTD\",\n",
    "    \"2\": \"Interdisciplinary Collaboration and Projects at SUTD\",\n",
    "    \"3\": \"Global Partnerships and Opportunities at SUTD (e.g., MIT, Zhejiang)\",\n",
    "    \"4\": \"Career Prospects and Industry Connections for SUTD Graduates\",\n",
    "    \"5\": \"Innovation and Entrepreneurship at SUTD\",\n",
    "    \"6\": \"Student Life and Community at SUTD\",\n",
    "    \"7\": \"Fifth Rows\",\n",
    "    \"8\": \"Admissions Process and Requirements for SUTD\",\n",
    "    \"9\": \"Research and Development at SUTD\"\n",
    "}"
   ]
  },
  {
   "cell_type": "code",
   "execution_count": 46,
   "id": "0095fefd",
   "metadata": {},
   "outputs": [],
   "source": [
    "direct_question_generation_prompt_template = PromptTemplate(\n",
    "    input_variables=[\"THEME\"],\n",
    "    template=\"\"\"\n",
    "Here are some example questions a prospective student might ask about the **{THEME}** at the Singapore University of Technology and Design (SUTD)**.  \n",
    "Please generate a **mix of basic to advanced questions**, and output them as a **JSON array of question strings**. Please balance some variety in the keywords such as using SUTD's unique naming conventions such as \"Fifth Rows\" or \"Freshmores\".\n",
    "\n",
    "Now generate 5-10 new questions in JSON format.\n",
    "{{\n",
    "    \"0\": \"QUESTION_0\",\n",
    "}}\n",
    "\"\"\"\n",
    ")"
   ]
  },
  {
   "cell_type": "code",
   "execution_count": 47,
   "id": "50db8dad",
   "metadata": {},
   "outputs": [],
   "source": [
    "llm = ChatGoogleGenerativeAI(\n",
    "    model=\"gemini-2.0-flash\",\n",
    "    temperature=0.5 # We want some randomness\n",
    ")\n",
    "\n",
    "json_output_parser = JsonOutputParser()\n",
    "\n",
    "chain = llm | json_output_parser"
   ]
  },
  {
   "cell_type": "code",
   "execution_count": 48,
   "id": "79155796",
   "metadata": {},
   "outputs": [],
   "source": [
    "for theme in themes.values():\n",
    "    prompt = direct_question_generation_prompt_template.format(THEME=theme)\n",
    "    \n",
    "    themed_questions = chain.invoke(prompt)\n",
    "    \n",
    "    if isinstance(themed_questions, list):\n",
    "        themed_questions = themed_questions[0]\n",
    "    \n",
    "    for question in themed_questions.values():\n",
    "        with open(output_file, \"a\", encoding=\"utf-8\") as f:\n",
    "            json.dump({\"question\": question}, f)\n",
    "            f.write(\"\\n\")"
   ]
  },
  {
   "cell_type": "code",
   "execution_count": 34,
   "id": "65a8114e",
   "metadata": {},
   "outputs": [],
   "source": [
    "questions = llm.invoke(direct_question_generation_prompt_template.format())"
   ]
  },
  {
   "cell_type": "code",
   "execution_count": 35,
   "id": "97a59a31",
   "metadata": {},
   "outputs": [
    {
     "name": "stdout",
     "output_type": "stream",
     "text": [
      "content='```json\\n{\\n    \"0\": \"What Fifth Row activities are most popular among Freshmores?\",\\n    \"1\": \"Can you provide a comprehensive list of all Fifth Row clubs and sports available at SUTD?\",\\n    \"2\": \"How does SUTD support student-led initiatives for creating new Fifth Row clubs or activities?\",\\n    \"3\": \"What are the time commitments typically involved in participating in different Fifth Row activities?\",\\n    \"4\": \"Are there opportunities for Fifth Row activities to collaborate with external organizations or companies?\",\\n    \"5\": \"How does SUTD ensure inclusivity and accessibility in Fifth Row activities for students with diverse backgrounds and abilities?\",\\n    \"6\": \"What resources (e.g., funding, equipment, mentorship) are available to Fifth Row clubs and sports teams?\",\\n    \"7\": \"How does participation in Fifth Row activities contribute to the overall SUTD student experience and personal development?\",\\n    \"8\": \"Are there any Fifth Row activities that focus on social impact or community engagement?\",\\n    \"9\": \"What is the process for joining a Fifth Row club or sports team, and are there any tryouts or application processes?\",\\n    \"10\": \"How does the Fifth Row system integrate with the academic curriculum at SUTD, and are there opportunities for Fifth Row activities to earn academic credit?\",\\n    \"11\": \"What kind of performance spaces or art studios are available for Fifth Row arts groups?\",\\n    \"12\": \"How are Fifth Row activities impacted by COVID-19 restrictions, and what measures are in place to ensure student safety?\",\\n    \"13\": \"Can you describe the leadership structure within typical Fifth Row clubs, and are there opportunities for students to take on leadership roles?\",\\n    \"14\": \"What are some examples of successful Fifth Row projects or initiatives that have had a significant impact on the SUTD community?\",\\n    \"15\": \"What are the opportunities for Fifth Row teams to compete with other universities in Singapore or internationally?\",\\n    \"16\": \"How does SUTD promote Fifth Row activities to the student body and encourage participation?\",\\n    \"17\": \"Are there any Fifth Row activities specifically designed to help Freshmores integrate into the SUTD community?\",\\n    \"18\": \"How does the Fifth Row system at SUTD differ from extracurricular activities at other universities?\",\\n    \"19\": \"What kind of support is provided to students who want to start their own sports team within the Fifth Row framework?\",\\n    \"20\": \"How does SUTD balance the emphasis on academics with the importance of Fifth Row activities for student well-being?\",\\n    \"21\": \"What are some examples of interdisciplinary projects or collaborations that have emerged from Fifth Row activities?\",\\n    \"22\": \"Are there any Fifth Row activities that focus on promoting sustainability or environmental awareness?\",\\n    \"23\": \"What is the role of faculty advisors in supporting Fifth Row clubs and sports teams?\",\\n    \"24\": \"How does the Fifth Row office gather feedback from students about their experiences with Fifth Row activities, and how is this feedback used to improve the system?\",\\n    \"25\": \"Are there any specific Fifth Row activities geared towards international students to help them integrate into the SUTD community?\",\\n    \"26\": \"What opportunities are there for alumni to stay involved with Fifth Row activities after graduation?\",\\n    \"27\": \"Beyond the official Fifth Rows, are there any informal student groups or activities that are also popular?\",\\n    \"28\": \"What kind of training or workshops are offered to students who want to improve their skills in areas related to Fifth Row activities (e.g., leadership, event planning, coaching)?\",\\n    \"29\": \"How does SUTD encourage innovation and creativity within the Fifth Row system?\",\\n    \"30\": \"What is the process for securing funding for large-scale Fifth Row events or projects?\",\\n    \"31\": \"How can I find out more about the performance schedules and event calendars of different Fifth Row groups?\",\\n    \"32\": \"Are there any Fifth Row activities that specifically cater to students interested in entrepreneurship or innovation?\",\\n    \"33\": \"What is the typical budget allocated to a Fifth Row club, and how is that budget determined?\",\\n    \"34\": \"How does SUTD handle conflicts or disputes that may arise within Fifth Row clubs or sports teams?\",\\n    \"35\": \"Are there any Fifth Row activities that focus on promoting mental health and well-being among students?\",\\n    \"36\": \"What are the criteria used to evaluate the success of Fifth Row activities?\",\\n    \"37\": \"How does SUTD ensure that Fifth Row activities are aligned with the university\\'s overall mission and values?\",\\n    \"38\": \"Are there any opportunities for students to present their Fifth Row projects or achievements at university-wide events?\",\\n    \"39\": \"What is the role of the SUTD Student Government in supporting and representing the interests of Fifth Row clubs and sports teams?\",\\n    \"40\": \"How does participation in Fifth Row activities impact a student\\'s chances of securing internships or job opportunities after graduation?\",\\n    \"41\": \"What are the most competitive Fifth Row activities to get into?\",\\n    \"42\": \"Are there any Fifth Row activities that offer scholarships or financial aid to students?\",\\n    \"43\": \"How does SUTD support students who want to start a Fifth Row activity that is not currently offered?\",\\n    \"44\": \"Can you share some success stories of students who have significantly benefited from their involvement in Fifth Row activities?\",\\n    \"45\": \"What are the different levels of competition within Fifth Row sports, and how does SUTD support teams at each level?\"\\n}\\n```' additional_kwargs={} response_metadata={'prompt_feedback': {'block_reason': 0, 'safety_ratings': []}, 'finish_reason': 'STOP', 'model_name': 'gemini-2.0-flash', 'safety_ratings': []} id='run-a7fe7f37-4855-402d-b43a-a7e3c1c9d946-0' usage_metadata={'input_tokens': 119, 'output_tokens': 1214, 'total_tokens': 1333, 'input_token_details': {'cache_read': 0}}\n"
     ]
    }
   ],
   "source": [
    "print(questions)"
   ]
  },
  {
   "cell_type": "code",
   "execution_count": 36,
   "id": "cf4cf472",
   "metadata": {},
   "outputs": [],
   "source": [
    "questions = json_output_parser.invoke(questions)"
   ]
  },
  {
   "cell_type": "code",
   "execution_count": 37,
   "id": "92ba4f52",
   "metadata": {},
   "outputs": [],
   "source": [
    "output_file = \"questions2.jsonl\"\n",
    "\n",
    "if type(questions) == list:\n",
    "    questions = questions[0]\n",
    "\n",
    "with open(output_file, \"a\", encoding=\"utf-8\") as f:\n",
    "    for question in questions.values():\n",
    "        json.dump({\"question\": question}, f)\n",
    "        f.write(\"\\n\")"
   ]
  },
  {
   "cell_type": "code",
   "execution_count": null,
   "id": "d328cb0f",
   "metadata": {},
   "outputs": [],
   "source": []
  }
 ],
 "metadata": {
  "kernelspec": {
   "display_name": "capstone",
   "language": "python",
   "name": "python3"
  },
  "language_info": {
   "codemirror_mode": {
    "name": "ipython",
    "version": 3
   },
   "file_extension": ".py",
   "mimetype": "text/x-python",
   "name": "python",
   "nbconvert_exporter": "python",
   "pygments_lexer": "ipython3",
   "version": "3.10.16"
  }
 },
 "nbformat": 4,
 "nbformat_minor": 5
}
